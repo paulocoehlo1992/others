{
 "cells": [
  {
   "cell_type": "code",
   "execution_count": 5,
   "metadata": {
    "collapsed": false
   },
   "outputs": [],
   "source": [
    "import requests\n",
    "import json\n",
    "import numpy as np \n",
    "import json \n",
    "import curl\n",
    "\n",
    "api_key = 'c7b171232cc9d998'\n",
    "url = \"https://api.fullcontact.com/v2/person.json\"\n",
    "\n",
    "def whois(**kwargs):\n",
    "  if 'apiKey' not in kwargs:\n",
    "    kwargs['apiKey'] = api_key\n",
    "  r = requests.get(url, params=kwargs)\n",
    "  return json.loads(r.text)\n",
    "#personAPI explorer \n",
    "def person(**kwargs):\n",
    "  if 'apiKey' not in kwargs:\n",
    "    kwargs['apiKey'] = api_key\n",
    "  r = requests.get(url, params=kwargs)\n",
    "  return json.loads(r.text)\n",
    "\n",
    "x=whois(email=\"sukaina@gmail.com\")\n"
   ]
  },
  {
   "cell_type": "code",
   "execution_count": 7,
   "metadata": {
    "collapsed": false
   },
   "outputs": [
    {
     "name": "stdout",
     "output_type": "stream",
     "text": [
      "dict_keys(['status', 'requestId', 'likelihood', 'photos', 'contactInfo', 'organizations', 'demographics', 'socialProfiles', 'digitalFootprint'])\n"
     ]
    }
   ],
   "source": [
    "print(x.keys())"
   ]
  },
  {
   "cell_type": "code",
   "execution_count": 8,
   "metadata": {
    "collapsed": false
   },
   "outputs": [
    {
     "data": {
      "text/plain": [
       "{'familyName': 'Bawa', 'fullName': 'Sukaina Bawa', 'givenName': 'Sukaina'}"
      ]
     },
     "execution_count": 8,
     "metadata": {},
     "output_type": "execute_result"
    }
   ],
   "source": [
    "x[\"contactInfo\"]"
   ]
  },
  {
   "cell_type": "code",
   "execution_count": 9,
   "metadata": {
    "collapsed": false
   },
   "outputs": [
    {
     "data": {
      "text/plain": [
       "[{'current': True,\n",
       "  'name': 'CropIn Technology Solutions Pvt Ltd',\n",
       "  'startDate': '2015',\n",
       "  'title': 'Delivery Head'}]"
      ]
     },
     "execution_count": 9,
     "metadata": {},
     "output_type": "execute_result"
    }
   ],
   "source": [
    "x[\"organizations\"]"
   ]
  },
  {
   "cell_type": "code",
   "execution_count": 10,
   "metadata": {
    "collapsed": false
   },
   "outputs": [
    {
     "data": {
      "text/plain": [
       "{'gender': 'Female',\n",
       " 'locationDeduced': {'city': {'name': 'Bangalore'},\n",
       "  'continent': {'deduced': True, 'name': 'Asia'},\n",
       "  'country': {'code': 'IN', 'deduced': True, 'name': 'India'},\n",
       "  'deducedLocation': 'Bangalore, Karnataka, India',\n",
       "  'likelihood': 1.0,\n",
       "  'normalizedLocation': 'Bangalore',\n",
       "  'state': {'deduced': True, 'name': 'Karnataka'}},\n",
       " 'locationGeneral': 'Bangalore'}"
      ]
     },
     "execution_count": 10,
     "metadata": {},
     "output_type": "execute_result"
    }
   ],
   "source": [
    "x[\"demographics\"]"
   ]
  },
  {
   "cell_type": "code",
   "execution_count": 13,
   "metadata": {
    "collapsed": false
   },
   "outputs": [
    {
     "data": {
      "text/plain": [
       "{'bio': 'Strong competencies in Business Process Consulting, Requirement Analysis, Solution design & Project Management for Business Process Transformation projects',\n",
       " 'followers': 6,\n",
       " 'id': '900657',\n",
       " 'type': 'angellist',\n",
       " 'typeId': 'angellist',\n",
       " 'typeName': 'AngelList',\n",
       " 'url': 'https://angel.co/sukaina-bawa',\n",
       " 'username': 'sukaina-bawa'}"
      ]
     },
     "execution_count": 13,
     "metadata": {},
     "output_type": "execute_result"
    }
   ],
   "source": [
    "x[\"socialProfiles\"][0]"
   ]
  },
  {
   "cell_type": "code",
   "execution_count": 14,
   "metadata": {
    "collapsed": false
   },
   "outputs": [
    {
     "data": {
      "text/plain": [
       "{'followers': 34,\n",
       " 'id': '103527920090166789457',\n",
       " 'type': 'google',\n",
       " 'typeId': 'google',\n",
       " 'typeName': 'GooglePlus',\n",
       " 'url': 'https://plus.google.com/103527920090166789457'}"
      ]
     },
     "execution_count": 14,
     "metadata": {},
     "output_type": "execute_result"
    }
   ],
   "source": [
    "x[\"socialProfiles\"][1]"
   ]
  },
  {
   "cell_type": "code",
   "execution_count": 15,
   "metadata": {
    "collapsed": false
   },
   "outputs": [
    {
     "data": {
      "text/plain": [
       "{'bio': 'Strong competencies in Business Process & Technology Consulting, Managing Large-scale (US$ 10m+) IT Delivery Projects & Customer Relationship Management. Key skill set includes: • Domain Expertise in Supply Chain & ICT for Agribusiness • Business Process consulting • Requirements elicitation, analysis & definition • Project management and Product Management • Solution definition & design Technical Stack: • .NET (v4.0, v2.0, v1.1, v1.0) – ASP.NET, .NET Web Services, MVP and MVC • Oracle SQL and PL/SQL (11g, 10g, 8i), SQL Server 2012 • Android • Oracle Forms and Reports 6i',\n",
       " 'followers': 500,\n",
       " 'following': 500,\n",
       " 'id': '13441537',\n",
       " 'type': 'linkedin',\n",
       " 'typeId': 'linkedin',\n",
       " 'typeName': 'LinkedIn',\n",
       " 'url': 'https://www.linkedin.com/in/sukaina-bawa-8016024',\n",
       " 'username': 'sukaina-bawa-8016024'}"
      ]
     },
     "execution_count": 15,
     "metadata": {},
     "output_type": "execute_result"
    }
   ],
   "source": [
    "x[\"socialProfiles\"][2]"
   ]
  },
  {
   "cell_type": "code",
   "execution_count": 25,
   "metadata": {
    "collapsed": false
   },
   "outputs": [
    {
     "name": "stdout",
     "output_type": "stream",
     "text": [
      "ASP.NET\n",
      "Automation\n",
      "Business Analyst\n",
      "Business Requirement Gathering\n",
      "Coding\n",
      "Data Modeling\n",
      "Functional Testing\n",
      "German Language\n",
      "Microsoft SQL Server\n",
      "Sourcing\n",
      "SQL\n",
      "Supply Chain\n",
      "System Design\n",
      "System Testing\n",
      "Unix Scripting\n",
      "Use Cases\n",
      "User Acceptance Testing\n",
      "Web Applications\n",
      "Web Services\n"
     ]
    }
   ],
   "source": [
    "for item in x[\"digitalFootprint\"][\"topics\"]:\n",
    "    print(item[\"value\"])"
   ]
  },
  {
   "cell_type": "code",
   "execution_count": null,
   "metadata": {
    "collapsed": true
   },
   "outputs": [],
   "source": []
  }
 ],
 "metadata": {
  "kernelspec": {
   "display_name": "Python 3",
   "language": "python",
   "name": "python3"
  },
  "language_info": {
   "codemirror_mode": {
    "name": "ipython",
    "version": 3
   },
   "file_extension": ".py",
   "mimetype": "text/x-python",
   "name": "python",
   "nbconvert_exporter": "python",
   "pygments_lexer": "ipython3",
   "version": "3.6.0"
  }
 },
 "nbformat": 4,
 "nbformat_minor": 2
}
