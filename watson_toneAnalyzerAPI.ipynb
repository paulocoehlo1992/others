{
 "cells": [
  {
   "cell_type": "code",
   "execution_count": 1,
   "metadata": {
    "collapsed": true
   },
   "outputs": [],
   "source": [
    "import json\n",
    "from watson_developer_cloud import ToneAnalyzerV3"
   ]
  },
  {
   "cell_type": "code",
   "execution_count": 2,
   "metadata": {
    "collapsed": true
   },
   "outputs": [],
   "source": [
    "tone_analyzer = ToneAnalyzerV3(\n",
    "    username='fc46a2a0-5311-4ba5-a68e-28d1e7d974f4',\n",
    "    password=\"GbETCWLiS2c0\",\n",
    "    version='2016-02-11')\n"
   ]
  },
  {
   "cell_type": "code",
   "execution_count": 9,
   "metadata": {
    "collapsed": false
   },
   "outputs": [],
   "source": [
    "x=((tone_analyzer.tone(text='I’m really sorry for how frustrating this situation is, but I’m going to do everything I can to make things right.')))\n",
    "\n"
   ]
  },
  {
   "cell_type": "code",
   "execution_count": 12,
   "metadata": {
    "collapsed": false
   },
   "outputs": [
    {
     "data": {
      "text/plain": [
       "{'document_tone': {'tone_categories': [{'category_id': 'emotion_tone',\n",
       "    'category_name': 'Emotion Tone',\n",
       "    'tones': [{'score': 0.570648, 'tone_id': 'anger', 'tone_name': 'Anger'},\n",
       "     {'score': 0.058179, 'tone_id': 'disgust', 'tone_name': 'Disgust'},\n",
       "     {'score': 0.333804, 'tone_id': 'fear', 'tone_name': 'Fear'},\n",
       "     {'score': 0.027232, 'tone_id': 'joy', 'tone_name': 'Joy'},\n",
       "     {'score': 0.189461, 'tone_id': 'sadness', 'tone_name': 'Sadness'}]},\n",
       "   {'category_id': 'writing_tone',\n",
       "    'category_name': 'Writing Tone',\n",
       "    'tones': [{'score': 0.453849,\n",
       "      'tone_id': 'analytical',\n",
       "      'tone_name': 'Analytical'},\n",
       "     {'score': 0.0, 'tone_id': 'confident', 'tone_name': 'Confident'},\n",
       "     {'score': 0.0, 'tone_id': 'tentative', 'tone_name': 'Tentative'}]},\n",
       "   {'category_id': 'social_tone',\n",
       "    'category_name': 'Social Tone',\n",
       "    'tones': [{'score': 0.002774,\n",
       "      'tone_id': 'openness_big5',\n",
       "      'tone_name': 'Openness'},\n",
       "     {'score': 0.055309,\n",
       "      'tone_id': 'conscientiousness_big5',\n",
       "      'tone_name': 'Conscientiousness'},\n",
       "     {'score': 0.008731,\n",
       "      'tone_id': 'extraversion_big5',\n",
       "      'tone_name': 'Extraversion'},\n",
       "     {'score': 0.872993,\n",
       "      'tone_id': 'agreeableness_big5',\n",
       "      'tone_name': 'Agreeableness'},\n",
       "     {'score': 0.04448,\n",
       "      'tone_id': 'neuroticism_big5',\n",
       "      'tone_name': 'Emotional Range'}]}]}}"
      ]
     },
     "execution_count": 12,
     "metadata": {},
     "output_type": "execute_result"
    }
   ],
   "source": [
    "x"
   ]
  }
 ],
 "metadata": {
  "kernelspec": {
   "display_name": "Python 3",
   "language": "python",
   "name": "python3"
  },
  "language_info": {
   "codemirror_mode": {
    "name": "ipython",
    "version": 3
   },
   "file_extension": ".py",
   "mimetype": "text/x-python",
   "name": "python",
   "nbconvert_exporter": "python",
   "pygments_lexer": "ipython3",
   "version": "3.6.0"
  }
 },
 "nbformat": 4,
 "nbformat_minor": 2
}
